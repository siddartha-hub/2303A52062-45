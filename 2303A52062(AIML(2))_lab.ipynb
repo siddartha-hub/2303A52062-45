{
  "nbformat": 4,
  "nbformat_minor": 0,
  "metadata": {
    "colab": {
      "provenance": [],
      "include_colab_link": true
    },
    "kernelspec": {
      "name": "python3",
      "display_name": "Python 3"
    },
    "language_info": {
      "name": "python"
    }
  },
  "cells": [
    {
      "cell_type": "markdown",
      "metadata": {
        "id": "view-in-github",
        "colab_type": "text"
      },
      "source": [
        "<a href=\"https://colab.research.google.com/github/siddartha-hub/2303A52062-45/blob/main/2303A52062(AIML(2)_lab.ipynb\" target=\"_parent\"><img src=\"https://colab.research.google.com/assets/colab-badge.svg\" alt=\"Open In Colab\"/></a>"
      ]
    },
    {
      "cell_type": "markdown",
      "source": [
        "#  Lab - 02 Implement AI Search\n"
      ],
      "metadata": {
        "id": "9DUg-ihUdVnG"
      }
    },
    {
      "cell_type": "markdown",
      "source": [
        "Part - 01 - Implement Breadth First Search Algorithm using a Queue."
      ],
      "metadata": {
        "id": "AqVT6VhtdiMo"
      }
    },
    {
      "cell_type": "code",
      "execution_count": null,
      "metadata": {
        "id": "mSzh23ASdDIf"
      },
      "outputs": [],
      "source": [
        "import numpy as np\n",
        "from queue import Queue"
      ]
    },
    {
      "cell_type": "code",
      "source": [
        "graph = {\n",
        "    0:[1, 2, 3],\n",
        "    1: [0, 2],\n",
        "    2: [0, 1, 3, 5],\n",
        "    3: [0, 2, 4],\n",
        "    4: [3, 5, 7],\n",
        "    5: [4, 6, 7],\n",
        "    6: [5, 7],\n",
        "    7: [4, 5, 6],\n",
        "    8: []\n",
        "}\n",
        "print(\"The adjacency List representing the graph is :\")\n",
        "print(graph) #print the adjacency list to show the graphs structure"
      ],
      "metadata": {
        "colab": {
          "base_uri": "https://localhost:8080/"
        },
        "id": "BBz52mvPdkJ1",
        "outputId": "ad53f986-96ed-445f-e97b-e873b937f7ad"
      },
      "execution_count": null,
      "outputs": [
        {
          "output_type": "stream",
          "name": "stdout",
          "text": [
            "The adjacency List representing the graph is :\n",
            "{0: [1, 2, 3], 1: [0, 2], 2: [0, 1, 3, 5], 3: [0, 2, 4], 4: [3, 5, 7], 5: [4, 6, 7], 6: [5, 7], 7: [4, 5, 6], 8: []}\n"
          ]
        }
      ]
    },
    {
      "cell_type": "code",
      "source": [
        "#Define the BFS function\n",
        "def bfs(graph, source):\n",
        "  Q = Queue()\n",
        "  visisted_vertices = set()\n",
        "  Q.put(source)\n",
        "  visisted_vertices.add(source)\n",
        "  while not Q.empty():\n",
        "    vertex = Q.get()\n",
        "    print(vertex, end=\"-->\")\n",
        "    for v in graph[vertex]:\n",
        "      if v not in visisted_vertices:\n",
        "        Q.put(v)\n",
        "        visisted_vertices.add(v)\n",
        "print(\"BFS traversal of graph with source 0 is:\")\n",
        "bfs(graph,0)"
      ],
      "metadata": {
        "colab": {
          "base_uri": "https://localhost:8080/"
        },
        "id": "7b84-1bIdloB",
        "outputId": "16fc19e2-bfa2-40c7-e0b6-ec20b8bb7d1a"
      },
      "execution_count": null,
      "outputs": [
        {
          "output_type": "stream",
          "name": "stdout",
          "text": [
            "BFS traversal of graph with source 0 is:\n",
            "0-->1-->2-->3-->5-->4-->6-->7-->"
          ]
        }
      ]
    },
    {
      "cell_type": "markdown",
      "source": [
        "Part - 02 Implement Depth First Search Algorithm using a Stack"
      ],
      "metadata": {
        "id": "z6yhLGLkdrbG"
      }
    },
    {
      "cell_type": "code",
      "source": [
        "graph1 = {\n",
        "     'A' : {'C','D','G'},\n",
        "     'B' : {'A'},\n",
        "     'C' : {'A','D','F'},\n",
        "     'D' : {'A','C','E','G','H'},\n",
        "     'E' : {'D','F','H'},\n",
        "     'F' : {'C','E'},\n",
        "     'G' : {'A','D','H'},\n",
        "     'H' : {'D','E','G'},\n",
        "}\n",
        "print(\"The adjacency List representing the graph is :\")\n",
        "print(graph1) #print the adjacency list to show the graphs structure"
      ],
      "metadata": {
        "colab": {
          "base_uri": "https://localhost:8080/"
        },
        "id": "Wd71X3MNdoFb",
        "outputId": "1935faac-c141-4024-951a-d6ddb68b4316"
      },
      "execution_count": null,
      "outputs": [
        {
          "output_type": "stream",
          "name": "stdout",
          "text": [
            "The adjacency List representing the graph is :\n",
            "{'A': {'C', 'G', 'D'}, 'B': {'A'}, 'C': {'A', 'D', 'F'}, 'D': {'H', 'G', 'C', 'A', 'E'}, 'E': {'H', 'D', 'F'}, 'F': {'C', 'E'}, 'G': {'A', 'H', 'D'}, 'H': {'E', 'G', 'D'}}\n"
          ]
        }
      ]
    },
    {
      "cell_type": "code",
      "source": [
        "def dfs(graph, node, visited):\n",
        "    if node not in visited: #check if the node has not been visited\n",
        "        visited.append(node) #mark the node as visited by adding it to the list\n",
        "        for k in graph[node]: #iterate over a adjacent vertices\n",
        "            dfs(graph, k, visited) # Recursively call dfs for each adjacent vertices\n",
        "        return visited  #return the list of visited nodes\n",
        "# perform DFS traversal starting from vertex\n",
        "visited = dfs(graph1, 'B', [])\n",
        "print(visited) # print the list of visited nodes"
      ],
      "metadata": {
        "colab": {
          "base_uri": "https://localhost:8080/"
        },
        "id": "toFYO2zSdtMC",
        "outputId": "1d7b4de7-a00f-4c44-8312-0d647becec84"
      },
      "execution_count": null,
      "outputs": [
        {
          "output_type": "stream",
          "name": "stdout",
          "text": [
            "['B', 'A', 'C', 'D', 'H', 'E', 'F', 'G']\n"
          ]
        }
      ]
    },
    {
      "cell_type": "code",
      "source": [
        "import numpy as np\n",
        "from queue import Queue\n",
        "import heapq"
      ],
      "metadata": {
        "id": "sWC_83GGdu62"
      },
      "execution_count": null,
      "outputs": []
    },
    {
      "cell_type": "code",
      "source": [
        "def bestFirstSearch(initial_state, goal_state, evaluation_function):\n",
        "  priority_queue = []\n",
        "  heapq.heappush(priority_queue, (evaluation_function(initial_state), initial_state))\n",
        "  while priority_queue:\n",
        "    current_state = heapq.heappop(priority_queue)[1]\n",
        "    if current_state == goal_state:\n",
        "      return current_state\n",
        "    next_states = generateNextStates(current_state)\n",
        "    for next_state in next_states:\n",
        "      priority_value = evaluation_function(next_state)\n",
        "      heapq.heappush(priority_queue, (priority_value, next_state))\n",
        "  return \"no solution found\"\n",
        "def evaluation_function(state):\n",
        "  return abs(state[0] - goal_state[0]) + abs(state[1] - goal_state[1])\n",
        "def generateNextStates(state):\n",
        "  x, y = state\n",
        "  next_states = [(x+1, y), (x-1, y), (x, y+1), (x, y-1)]\n",
        "  return [s for s in next_states if 0 <= s[0] <= 4 and 0 <= s[1] <= 4]\n",
        "initial_state = (0, 0)\n",
        "goal_state = (4, 4)\n",
        "solution = bestFirstSearch(initial_state, goal_state, evaluation_function)\n",
        "print(\"solution:\", solution)\n",
        "\n"
      ],
      "metadata": {
        "colab": {
          "base_uri": "https://localhost:8080/"
        },
        "id": "FNLsOPXTdwr4",
        "outputId": "5fe7cfed-7c31-4f71-b76a-ebae313b465c"
      },
      "execution_count": null,
      "outputs": [
        {
          "output_type": "stream",
          "name": "stdout",
          "text": [
            "solution: (4, 4)\n"
          ]
        }
      ]
    },
    {
      "cell_type": "markdown",
      "source": [
        "Part - 03  Implement A-Star Algorithm using Numpy"
      ],
      "metadata": {
        "id": "sQ0h9_Kcd1yl"
      }
    },
    {
      "cell_type": "code",
      "source": [
        "from copy import deepcopy\n",
        "import numpy as np\n",
        "import time\n"
      ],
      "metadata": {
        "id": "el21-P8ydybZ"
      },
      "execution_count": null,
      "outputs": []
    },
    {
      "cell_type": "code",
      "source": [
        "def bestsolution(state):\n",
        "  bestsol = np.array([],int).reshape(-1, 9)\n",
        "  count = len(state) - 1\n",
        "  while count != -1:\n",
        "    bestsol = np.insert(bestsol, 0, state[count]['puzzle'],0)\n",
        "    count = state[count]['parent']\n",
        "  return bestsol.reshape(-1, 3, 3)"
      ],
      "metadata": {
        "id": "5QxQfp-ud0yO"
      },
      "execution_count": null,
      "outputs": []
    },
    {
      "cell_type": "code",
      "source": [
        "def all(checkarray):\n",
        "  set = []\n",
        "\n",
        "  for it in set:\n",
        "    for checkarray in it:\n",
        "      return 1\n",
        "    else:\n",
        "      return 0"
      ],
      "metadata": {
        "id": "7Wb1ercYd6Wj"
      },
      "execution_count": null,
      "outputs": []
    },
    {
      "cell_type": "code",
      "source": [
        "def misplaced_tiles(puzzle, goal):\n",
        "  mscost = np.sum(puzzle != goal) -1\n",
        "  return mscost if mscost > 0 else 0"
      ],
      "metadata": {
        "id": "o5ODWnPZd7_c"
      },
      "execution_count": null,
      "outputs": []
    },
    {
      "cell_type": "code",
      "source": [
        "def coordinates(puzzle):\n",
        "  pos = np.array(range(9))\n",
        "  for p,q in enumerate(puzzle):\n",
        "    pos[q] = p\n",
        "  return pos"
      ],
      "metadata": {
        "id": "ih-uq137d9ur"
      },
      "execution_count": null,
      "outputs": []
    },
    {
      "cell_type": "code",
      "source": [
        " #start of 8 puzzle evaluvation, using Misplaced tiles heuristics\n",
        "def evaluvate_misplaced(puzzle, goal):\n",
        "    steps = np.array([('up', [0, 1, 2], -3),('down', [6, 7, 8],  3),('left', [0, 3, 6], -1),('right', [2, 5, 8],  1)],\n",
        "                dtype =  [('move',  str, 1),('position', list),('head', int)])\n",
        "\n",
        "    dtstate = [('puzzle',  list),('parent', int),('gn',  int),('hn',  int)]\n",
        "\n",
        "    costg = coordinates(goal)\n",
        "\n",
        "    # initializing the parent, gn and hn, where hn is misplaced_tiles  function call\n",
        "    parent = -1\n",
        "    gn = 0\n",
        "    hn = misplaced_tiles(coordinates(puzzle), costg)\n",
        "    state = np.array([(puzzle, parent, gn, hn)], dtstate)\n",
        "\n",
        "   #priority queues with position as keys and fn as value.\n",
        "    dtpriority = [('position', int),('fn', int)]\n",
        "\n",
        "    priority = np.array([(0, hn)], dtpriority)\n",
        "\n",
        "    while 1:\n",
        "        priority = np.sort(priority, kind='mergesort', order=['fn', 'position'])\n",
        "        position, fn = priority[0]\n",
        "        # sort priority queue using merge sort,the first element is picked for exploring.\n",
        "        priority = np.delete(priority, 0, 0)\n",
        "        puzzle, parent, gn, hn = state[position]\n",
        "        puzzle = np.array(puzzle)\n",
        "\n",
        "        blank = int(np.where(puzzle == 0)[0])\n",
        "\n",
        "        gn = gn + 1\n",
        "        c = 1\n",
        "        start_time = time.time()\n",
        "        for s in steps:\n",
        "            c = c + 1\n",
        "            if blank not in s['position']:\n",
        "                openstates = deepcopy(puzzle)\n",
        "                openstates[blank], openstates[blank + s['head']] = openstates[blank + s['head']], openstates[blank]\n",
        "\n",
        "                if ~(np.all(list(state['puzzle']) == openstates, 1)).any():\n",
        "                    end_time = time.time()\n",
        "                    if (( end_time - start_time ) > 2):\n",
        "                        print(\" The 8 puzzle is unsolvable \\n\")\n",
        "                        break\n",
        "\n",
        "                    hn = misplaced_tiles(coordinates(openstates), costg)\n",
        "                    # generate and add new state in the list\n",
        "                    q = np.array([(openstates, position, gn, hn)], dtstate)\n",
        "                    state = np.append(state, q, 0)\n",
        "                    # f(n) is the sum of cost to reach node\n",
        "                    fn = gn + hn\n",
        "\n",
        "                    q = np.array([(len(state) - 1, fn)], dtpriority)\n",
        "                    priority = np.append(priority, q, 0)\n",
        "\n",
        "                    if np.array_equal(openstates, goal):\n",
        "                        print(' The 8 puzzle is solvable \\n')\n",
        "                        return state, len(priority)\n",
        "\n",
        "    return state, len(priority)"
      ],
      "metadata": {
        "id": "VzRGgEa7d_xF"
      },
      "execution_count": null,
      "outputs": []
    },
    {
      "cell_type": "code",
      "source": [
        "puzzle = []\n",
        "\n",
        "puzzle.append(2)\n",
        "puzzle.append(8)\n",
        "puzzle.append(3)\n",
        "puzzle.append(1)\n",
        "puzzle.append(6)\n",
        "puzzle.append(4)\n",
        "puzzle.append(7)\n",
        "puzzle.append(0)\n",
        "puzzle.append(5)"
      ],
      "metadata": {
        "id": "4ZuKNIxSeBdJ"
      },
      "execution_count": null,
      "outputs": []
    },
    {
      "cell_type": "code",
      "source": [
        "puzzle = []\n",
        "puzzle.append(2)\n",
        "puzzle.append(8)\n",
        "puzzle.append(3)\n",
        "puzzle.append(1)\n",
        "puzzle.append(6)\n",
        "puzzle.append(4)\n",
        "puzzle.append(7)\n",
        "puzzle.append(0)\n",
        "puzzle.append(5)\n",
        "\n",
        "goal = []\n",
        "goal.append(1)\n",
        "goal.append(2)\n",
        "goal.append(3)\n",
        "goal.append(8)\n",
        "goal.append(0)\n",
        "goal.append(4)\n",
        "goal.append(7)\n",
        "goal.append(6)\n",
        "goal.append(5)\n",
        "\n",
        "state, visited = evaluvate_misplaced(puzzle, goal)\n",
        "bestpath = bestsolution(state)\n",
        "print(str(bestpath).replace('[', ' ').replace(']', ''))\n",
        "totalmoves = len(bestpath) - 1\n",
        "print('\\nSteps to reach goal:', totalmoves)\n",
        "visit = len(state) - visited\n",
        "print('Total nodes visited: ', visit, \"\\n\")"
      ],
      "metadata": {
        "colab": {
          "base_uri": "https://localhost:8080/"
        },
        "id": "JAy-QkpreD2L",
        "outputId": "50184d15-c1ed-4ef1-ec08-535eb7ca64b4"
      },
      "execution_count": null,
      "outputs": [
        {
          "output_type": "stream",
          "name": "stdout",
          "text": [
            " The 8 puzzle is solvable \n",
            "\n",
            "   2 8 3\n",
            "   1 6 4\n",
            "   7 0 5\n",
            "\n",
            "   2 8 3\n",
            "   1 0 4\n",
            "   7 6 5\n",
            "\n",
            "   2 0 3\n",
            "   1 8 4\n",
            "   7 6 5\n",
            "\n",
            "   0 2 3\n",
            "   1 8 4\n",
            "   7 6 5\n",
            "\n",
            "   1 2 3\n",
            "   0 8 4\n",
            "   7 6 5\n",
            "\n",
            "   1 2 3\n",
            "   8 0 4\n",
            "   7 6 5\n",
            "\n",
            "Steps to reach goal: 5\n",
            "Total nodes visited:  6 \n",
            "\n"
          ]
        },
        {
          "output_type": "stream",
          "name": "stderr",
          "text": [
            "<ipython-input-13-4866f22cbb5e>:29: DeprecationWarning: Conversion of an array with ndim > 0 to a scalar is deprecated, and will error in future. Ensure you extract a single element from your array before performing this operation. (Deprecated NumPy 1.25.)\n",
            "  blank = int(np.where(puzzle == 0)[0])\n"
          ]
        }
      ]
    },
    {
      "cell_type": "code",
      "source": [],
      "metadata": {
        "id": "CbWP_qI9eFq9"
      },
      "execution_count": null,
      "outputs": []
    }
  ]
}
